{
 "cells": [
  {
   "cell_type": "code",
   "execution_count": 1,
   "metadata": {},
   "outputs": [],
   "source": [
    "# first we need to import the most Important two librarys pandas and numpy"
   ]
  },
  {
   "cell_type": "code",
   "execution_count": 2,
   "metadata": {},
   "outputs": [],
   "source": [
    "import numpy as np\n",
    "import pandas as pd"
   ]
  },
  {
   "cell_type": "code",
   "execution_count": 3,
   "metadata": {},
   "outputs": [],
   "source": [
    "# then we need to load the data to a variable let's call it cars"
   ]
  },
  {
   "cell_type": "code",
   "execution_count": 4,
   "metadata": {},
   "outputs": [],
   "source": [
    "cars=pd.read_csv('car_data.csv')"
   ]
  },
  {
   "cell_type": "code",
   "execution_count": 5,
   "metadata": {},
   "outputs": [],
   "source": [
    "# head() function is used to monitor the data columns names which will be used in analysis later"
   ]
  },
  {
   "cell_type": "code",
   "execution_count": 6,
   "metadata": {},
   "outputs": [
    {
     "data": {
      "text/html": [
       "<div>\n",
       "<style scoped>\n",
       "    .dataframe tbody tr th:only-of-type {\n",
       "        vertical-align: middle;\n",
       "    }\n",
       "\n",
       "    .dataframe tbody tr th {\n",
       "        vertical-align: top;\n",
       "    }\n",
       "\n",
       "    .dataframe thead th {\n",
       "        text-align: right;\n",
       "    }\n",
       "</style>\n",
       "<table border=\"1\" class=\"dataframe\">\n",
       "  <thead>\n",
       "    <tr style=\"text-align: right;\">\n",
       "      <th></th>\n",
       "      <th>Unnamed: 0</th>\n",
       "      <th>Model</th>\n",
       "      <th>Year</th>\n",
       "      <th>Status</th>\n",
       "      <th>Mileage</th>\n",
       "      <th>Price</th>\n",
       "      <th>MSRP</th>\n",
       "    </tr>\n",
       "  </thead>\n",
       "  <tbody>\n",
       "    <tr>\n",
       "      <th>0</th>\n",
       "      <td>0</td>\n",
       "      <td>2022 Acura TLX A-Spec</td>\n",
       "      <td>2022</td>\n",
       "      <td>New</td>\n",
       "      <td>Not available</td>\n",
       "      <td>$49,445</td>\n",
       "      <td>MSRP $49,445</td>\n",
       "    </tr>\n",
       "    <tr>\n",
       "      <th>1</th>\n",
       "      <td>1</td>\n",
       "      <td>2023 Acura RDX A-Spec</td>\n",
       "      <td>2023</td>\n",
       "      <td>New</td>\n",
       "      <td>Not available</td>\n",
       "      <td>$50,895</td>\n",
       "      <td>Not specified</td>\n",
       "    </tr>\n",
       "    <tr>\n",
       "      <th>2</th>\n",
       "      <td>2</td>\n",
       "      <td>2023 Acura TLX Type S</td>\n",
       "      <td>2023</td>\n",
       "      <td>New</td>\n",
       "      <td>Not available</td>\n",
       "      <td>$57,745</td>\n",
       "      <td>Not specified</td>\n",
       "    </tr>\n",
       "    <tr>\n",
       "      <th>3</th>\n",
       "      <td>3</td>\n",
       "      <td>2023 Acura TLX Type S</td>\n",
       "      <td>2023</td>\n",
       "      <td>New</td>\n",
       "      <td>Not available</td>\n",
       "      <td>$57,545</td>\n",
       "      <td>Not specified</td>\n",
       "    </tr>\n",
       "    <tr>\n",
       "      <th>4</th>\n",
       "      <td>4</td>\n",
       "      <td>2019 Acura MDX Sport Hybrid 3.0L w/Technology ...</td>\n",
       "      <td>2019</td>\n",
       "      <td>Used</td>\n",
       "      <td>32,675 mi.</td>\n",
       "      <td>$40,990</td>\n",
       "      <td>$600 price drop</td>\n",
       "    </tr>\n",
       "  </tbody>\n",
       "</table>\n",
       "</div>"
      ],
      "text/plain": [
       "   Unnamed: 0                                              Model  Year Status  \\\n",
       "0           0                              2022 Acura TLX A-Spec  2022    New   \n",
       "1           1                              2023 Acura RDX A-Spec  2023    New   \n",
       "2           2                              2023 Acura TLX Type S  2023    New   \n",
       "3           3                              2023 Acura TLX Type S  2023    New   \n",
       "4           4  2019 Acura MDX Sport Hybrid 3.0L w/Technology ...  2019   Used   \n",
       "\n",
       "         Mileage    Price             MSRP  \n",
       "0  Not available  $49,445     MSRP $49,445  \n",
       "1  Not available  $50,895    Not specified  \n",
       "2  Not available  $57,745    Not specified  \n",
       "3  Not available  $57,545    Not specified  \n",
       "4     32,675 mi.  $40,990  $600 price drop  "
      ]
     },
     "execution_count": 6,
     "metadata": {},
     "output_type": "execute_result"
    }
   ],
   "source": [
    "cars.head()"
   ]
  },
  {
   "cell_type": "code",
   "execution_count": 7,
   "metadata": {},
   "outputs": [],
   "source": [
    "# first let us see how sataus are varied throw cars"
   ]
  },
  {
   "cell_type": "code",
   "execution_count": 8,
   "metadata": {},
   "outputs": [
    {
     "data": {
      "text/plain": [
       "Used                    61849\n",
       "New                     47852\n",
       "Porsche Certified        1921\n",
       "Acura Certified          1053\n",
       "INFINITI Certified        870\n",
       "Volkswagen Certified      797\n",
       "BMW Certified             609\n",
       "Dodge Certified           388\n",
       "Chevrolet Certified       211\n",
       "Toyota Certified          183\n",
       "Ford Certified             29\n",
       "Name: Status, dtype: int64"
      ]
     },
     "execution_count": 8,
     "metadata": {},
     "output_type": "execute_result"
    }
   ],
   "source": [
    "a=cars[\"Status\"].value_counts()\n",
    "a"
   ]
  },
  {
   "cell_type": "code",
   "execution_count": 9,
   "metadata": {},
   "outputs": [],
   "source": [
    "# then Draw to see how they vary viusally .. it's easier this way"
   ]
  },
  {
   "cell_type": "code",
   "execution_count": 10,
   "metadata": {},
   "outputs": [
    {
     "data": {
      "text/plain": [
       "<matplotlib.axes._subplots.AxesSubplot at 0x20a93211780>"
      ]
     },
     "execution_count": 10,
     "metadata": {},
     "output_type": "execute_result"
    }
   ],
   "source": [
    "a.plot.bar(figsize=(15,8))"
   ]
  },
  {
   "cell_type": "code",
   "execution_count": 11,
   "metadata": {},
   "outputs": [],
   "source": [
    "# we notice that it containes alot of used and new cars .. and other various status\n",
    "# let's see how used and new status varies throw years"
   ]
  },
  {
   "cell_type": "code",
   "execution_count": 12,
   "metadata": {},
   "outputs": [
    {
     "data": {
      "text/plain": [
       "Status  Year\n",
       "New     2023    33987\n",
       "        2022    13342\n",
       "        2021      467\n",
       "        2020       36\n",
       "        2019        7\n",
       "        2018        6\n",
       "        2017        4\n",
       "        2015        2\n",
       "        2014        1\n",
       "Used    2019     8826\n",
       "        2020     8621\n",
       "        2021     7768\n",
       "        2018     6284\n",
       "        2022     6078\n",
       "        2017     4704\n",
       "        2016     4038\n",
       "        2015     3413\n",
       "        2014     2430\n",
       "        2013     2101\n",
       "        2012     1275\n",
       "Name: Year, dtype: int64"
      ]
     },
     "execution_count": 12,
     "metadata": {},
     "output_type": "execute_result"
    }
   ],
   "source": [
    "b1=(cars[\"Status\"]==\"New\")\n",
    "b2=(cars[\"Status\"]==\"Used\")\n",
    "b3=cars[b1 | b2].groupby('Status')[\"Year\"].value_counts()\n",
    "b3.head(20)"
   ]
  },
  {
   "cell_type": "code",
   "execution_count": 13,
   "metadata": {},
   "outputs": [],
   "source": [
    "# we Concluds that only new cars are exsited from 2014 and that new cars are huge in the years 2023 and 2022\n",
    "# so, let's focus on these two years and see the defference in price between used and new cars"
   ]
  },
  {
   "cell_type": "code",
   "execution_count": 14,
   "metadata": {},
   "outputs": [
    {
     "name": "stderr",
     "output_type": "stream",
     "text": [
      "C:\\Users\\AbdallahZiadi.DESKTOP-6HAVQF1\\Anaconda3\\lib\\site-packages\\ipykernel_launcher.py:5: SettingWithCopyWarning: \n",
      "A value is trying to be set on a copy of a slice from a DataFrame.\n",
      "Try using .loc[row_indexer,col_indexer] = value instead\n",
      "\n",
      "See the caveats in the documentation: http://pandas.pydata.org/pandas-docs/stable/indexing.html#indexing-view-versus-copy\n",
      "  \"\"\"\n",
      "C:\\Users\\AbdallahZiadi.DESKTOP-6HAVQF1\\Anaconda3\\lib\\site-packages\\ipykernel_launcher.py:9: UserWarning: Boolean Series key will be reindexed to match DataFrame index.\n",
      "  if __name__ == '__main__':\n"
     ]
    },
    {
     "data": {
      "text/plain": [
       "Status\n",
       "New     64995.411716\n",
       "Used    61822.803401\n",
       "Name: Price, dtype: float64"
      ]
     },
     "execution_count": 14,
     "metadata": {},
     "output_type": "execute_result"
    }
   ],
   "source": [
    "c1=cars['Year'].isin([2023,2000])\n",
    "# we need to convert dollar signs and comma to a float number\n",
    "c2=cars[\"Price\"]!=\"Not Priced\"\n",
    "c3=cars[c2]\n",
    "c3[\"Price\"]=c3[\"Price\"].replace('[\\$,]',\"\",regex=True).astype(float)\n",
    "\n",
    "# then group the the prices and calulate it's average\n",
    "c3.head()\n",
    "c4=c3[(b1|b2)&c1].groupby([\"Status\"])[\"Price\"].mean()\n",
    "c4"
   ]
  },
  {
   "cell_type": "code",
   "execution_count": 15,
   "metadata": {},
   "outputs": [],
   "source": [
    "# we see almost new cars are better than Used cars and there is almost 1 thousand only as an average\n",
    "# if we extend the years from 2023 to 2000 will notice a defferice of almost 3 thousands"
   ]
  },
  {
   "cell_type": "code",
   "execution_count": 16,
   "metadata": {},
   "outputs": [
    {
     "data": {
      "text/plain": [
       "<matplotlib.axes._subplots.AxesSubplot at 0x20a937f0dd8>"
      ]
     },
     "execution_count": 16,
     "metadata": {},
     "output_type": "execute_result"
    },
    {
     "data": {
      "image/png": "[encoded data removed]",
      "text/plain": [
       "<Figure size 432x288 with 1 Axes>"
      ]
     },
     "metadata": {
      "needs_background": "light"
     },
     "output_type": "display_data"
    }
   ],
   "source": [
    "c4.plot.bar()"
   ]
  },
  {
   "cell_type": "code",
   "execution_count": 17,
   "metadata": {},
   "outputs": [],
   "source": [
    "# now , let's see what are the Car models that 75% of them are Used During the interval 2023 to 2000"
   ]
  },
  {
   "cell_type": "code",
   "execution_count": 18,
   "metadata": {},
   "outputs": [
    {
     "data": {
      "text/plain": [
       "Index(['2000 Dodge Ram 1500 Quad Cab', '2000 Dodge Dakota Sport',\n",
       "       '2023 Tesla Model X Plaid', '2000 Ford Excursion Limited',\n",
       "       '2000 Dodge Ram 2500 ST', '2000 Volkswagen Eurovan MV',\n",
       "       '2023 Porsche Cayenne S Coupe AWD', '2000 Dodge Viper RT-10',\n",
       "       '2023 Porsche Panamera Sport Turismo 4',\n",
       "       '2000 Dodge Ram 2500 SLT Quad Cab', '2000 Dodge Ram 3500 ',\n",
       "       '2023 Toyota Supra ',\n",
       "       '2023 Porsche Cayenne EXECUTIVE DEMO- BALANCE OF WARRANTY AND CPO!',\n",
       "       '2023 Lexus GX 460 Premium', '2023 Tesla Model X AWD',\n",
       "       '2023 Tesla Model S BASE', '2000 Volkswagen Golf GL',\n",
       "       '2000 BMW Z3 M 3.2L', '2023 Toyota Camry XLE V6',\n",
       "       '2000 Chevrolet Express 3500 Cargo', '2000 Acura NSX T',\n",
       "       '2000 Dodge Ram 2500 SLT', '2000 BMW M5 Base',\n",
       "       '2000 Lexus SC 300 Base (A4)', '2023 BMW M3 Sedan',\n",
       "       '2023 Porsche 911 Carrera T', '2023 Volkswagen Jetta GLI Autobahn',\n",
       "       '2000 Dodge Durango SLT', '2000 BMW 750 750iL',\n",
       "       '2023 Porsche Cayenne E-Hybrid E-HYBRID', '2000 Porsche Boxster Sport',\n",
       "       '2023 Porsche 911 Carrera 4S', '2000 Lexus ES 300 ',\n",
       "       '2000 Lexus LX 470 Base', '2023 Porsche 911 Targa 4 GTS',\n",
       "       '2000 Porsche 911 2DR CABRIOLET', '2023 Tesla Model 3 ',\n",
       "       '2000 BMW 540 i', '2023 Tesla Model 3 Standard Range',\n",
       "       '2023 Porsche Cayenne Base (Tiptronic)', '2000 Porsche 911 ',\n",
       "       '2000 Lexus GS 300 ', '2000 Dodge Viper GTS', '2000 Lexus LS 400 ',\n",
       "       '2023 Porsche Cayenne E-Hybrid Turbo S', '2000 Lexus ES 300 Base',\n",
       "       '2023 Porsche 911 Carrera 4 GTS'],\n",
       "      dtype='object')"
      ]
     },
     "execution_count": 18,
     "metadata": {},
     "output_type": "execute_result"
    }
   ],
   "source": [
    "d1=cars[[\"Model\",\"Status\",\"Year\"]]\n",
    "d2=d1[(b1|b2)&c1][\"Model\"].value_counts()\n",
    "UsedModel=d1[b2&c1][\"Model\"].value_counts()\n",
    "Total=d2[(d2.index).isin(UsedModel.index)]\n",
    "Model_75=Total[(UsedModel.values/Total.values)>0.75].index\n",
    "Model_75\n"
   ]
  },
  {
   "cell_type": "code",
   "execution_count": null,
   "metadata": {},
   "outputs": [],
   "source": []
  }
 ],
 "metadata": {
  "kernelspec": {
   "display_name": "Python 3",
   "language": "python",
   "name": "python3"
  },
  "language_info": {
   "codemirror_mode": {
    "name": "ipython",
    "version": 3
   },
   "file_extension": ".py",
   "mimetype": "text/x-python",
   "name": "python",
   "nbconvert_exporter": "python",
   "pygments_lexer": "ipython3",
   "version": "3.7.0"
  }
 },
 "nbformat": 4,
 "nbformat_minor": 2
}
